{
 "cells": [
  {
   "cell_type": "markdown",
   "metadata": {},
   "source": [
    "Dicen por ahí que Python es lento. Y lo es, a veces (en unas situaciones particulares): básicamente en bucles / ciclos"
   ]
  },
  {
   "cell_type": "markdown",
   "metadata": {},
   "source": [
    "Un ejemplo:"
   ]
  },
  {
   "cell_type": "code",
   "execution_count": 4,
   "metadata": {},
   "outputs": [
    {
     "ename": "SyntaxError",
     "evalue": "EOL while scanning string literal (<ipython-input-4-f736e62d08ed>, line 5)",
     "output_type": "error",
     "traceback": [
      "\u001b[0;36m  File \u001b[0;32m\"<ipython-input-4-f736e62d08ed>\"\u001b[0;36m, line \u001b[0;32m5\u001b[0m\n\u001b[0;31m    i = \"hola\u001b[0m\n\u001b[0m            ^\u001b[0m\n\u001b[0;31mSyntaxError\u001b[0m\u001b[0;31m:\u001b[0m EOL while scanning string literal\n"
     ]
    }
   ],
   "source": [
    "total = 0\n",
    "for i in xrange(100):\n",
    "    total += i\n",
    "    \n",
    "print total"
   ]
  },
  {
   "cell_type": "code",
   "execution_count": 9,
   "metadata": {},
   "outputs": [
    {
     "name": "stdout",
     "output_type": "stream",
     "text": [
      "0\n",
      "hola\n",
      "1\n",
      "hola\n",
      "2\n",
      "hola\n",
      "3\n",
      "hola\n",
      "4\n",
      "hola\n",
      "5\n",
      "hola\n",
      "6\n",
      "hola\n",
      "7\n",
      "hola\n",
      "8\n",
      "hola\n",
      "9\n",
      "hola\n",
      "45\n",
      "holaholaholaholaholaholaholaholaholahola\n"
     ]
    }
   ],
   "source": [
    "total = 0\n",
    "total2 = \"\"\n",
    "for i in xrange(10):\n",
    "    total += i\n",
    "    print i\n",
    "    \n",
    "    i = \"hola\"\n",
    "    total2 += i\n",
    "    print i\n",
    "    \n",
    "print total\n",
    "print total2"
   ]
  },
  {
   "cell_type": "markdown",
   "metadata": {},
   "source": [
    "La flexibilidad misma lleva a la lentitud aquí, por ¡la necesidad de checar el tipo de los objetos todo el tiempo!"
   ]
  },
  {
   "cell_type": "markdown",
   "metadata": {},
   "source": [
    "## Diagnóstico por perfilamiento"
   ]
  },
  {
   "cell_type": "markdown",
   "metadata": {},
   "source": [
    "Queremos acelerar un código de cómputo científico con muchos bucles. ¿Cuál es el procedimiento? Por ejemplo, \"eliminar\" los bucles. Antes que esto: veamos cuánto tarda en cada parte del programa. ¡Pero no a mano, sino con un *perfilador*!"
   ]
  },
  {
   "cell_type": "markdown",
   "metadata": {},
   "source": [
    "La manera más fácil en IPython es con `%time` o `%timeit` (son diferentes): `%time` corre una vez un pedazo de código, mientras `%timeit` hace estadística. Y hay versiones con comandos mágicos de celda: `%%time` y `%%timeit` (corren todo el código de la celda completa):"
   ]
  },
  {
   "cell_type": "code",
   "execution_count": 10,
   "metadata": {},
   "outputs": [],
   "source": [
    "def sumar(n):\n",
    "    total = 0\n",
    "    for i in xrange(n):\n",
    "        total += i\n",
    "        \n",
    "    return total"
   ]
  },
  {
   "cell_type": "code",
   "execution_count": 40,
   "metadata": {},
   "outputs": [
    {
     "name": "stdout",
     "output_type": "stream",
     "text": [
      "CPU times: user 624 ms, sys: 8.84 ms, total: 633 ms\n",
      "Wall time: 626 ms\n"
     ]
    },
    {
     "data": {
      "text/plain": [
       "49999995000000"
      ]
     },
     "execution_count": 40,
     "metadata": {},
     "output_type": "execute_result"
    }
   ],
   "source": [
    "%time sumar(10000000)"
   ]
  },
  {
   "cell_type": "code",
   "execution_count": 41,
   "metadata": {},
   "outputs": [
    {
     "name": "stdout",
     "output_type": "stream",
     "text": [
      "1 loops, best of 3: 6.3 s per loop\n"
     ]
    }
   ],
   "source": [
    "%timeit sumar(10**8)"
   ]
  },
  {
   "cell_type": "code",
   "execution_count": 20,
   "metadata": {},
   "outputs": [
    {
     "name": "stdout",
     "output_type": "stream",
     "text": [
      "10000 loops, best of 3: 57.4 µs per loop\n"
     ]
    }
   ],
   "source": [
    "%%timeit\n",
    "total = 0\n",
    "for i in xrange(1000):\n",
    "    total += i"
   ]
  },
  {
   "cell_type": "markdown",
   "metadata": {},
   "source": [
    "Sin usar las bondades de IPython:"
   ]
  },
  {
   "cell_type": "code",
   "execution_count": 33,
   "metadata": {},
   "outputs": [],
   "source": [
    "import profile"
   ]
  },
  {
   "cell_type": "code",
   "execution_count": 34,
   "metadata": {},
   "outputs": [],
   "source": [
    "profile.run?"
   ]
  },
  {
   "cell_type": "code",
   "execution_count": 38,
   "metadata": {},
   "outputs": [
    {
     "name": "stdout",
     "output_type": "stream",
     "text": [
      "         4 function calls in 0.012 seconds\n",
      "\n",
      "   Ordered by: standard name\n",
      "\n",
      "   ncalls  tottime  percall  cumtime  percall filename:lineno(function)\n",
      "        1    0.000    0.000    0.000    0.000 :0(setprofile)\n",
      "        1    0.012    0.012    0.012    0.012 <ipython-input-10-6939f211451f>:1(sumar)\n",
      "        1    0.000    0.000    0.012    0.012 <string>:1(<module>)\n",
      "        0    0.000             0.000          profile:0(profiler)\n",
      "        1    0.000    0.000    0.012    0.012 profile:0(sumar(100000))\n",
      "\n",
      "\n"
     ]
    }
   ],
   "source": [
    "profile.run(\"sumar(100000)\")"
   ]
  },
  {
   "cell_type": "markdown",
   "metadata": {},
   "source": [
    "## Vectorizar"
   ]
  },
  {
   "cell_type": "markdown",
   "metadata": {},
   "source": [
    "Reemplazar bucles explícitos de Python con operaciones vectoriales sobre `array`s de `numpy`: `numpy` está diseñado tal que sus operaciones son rápidas --todos los bucles (implícitos) están escritos en C"
   ]
  },
  {
   "cell_type": "code",
   "execution_count": 42,
   "metadata": {},
   "outputs": [],
   "source": [
    "import numpy as np"
   ]
  },
  {
   "cell_type": "code",
   "execution_count": 49,
   "metadata": {},
   "outputs": [
    {
     "name": "stdout",
     "output_type": "stream",
     "text": [
      "499999500000\n",
      "499999500000\n",
      "499999500000\n",
      "499999500000\n",
      "499999500000\n",
      "499999500000\n",
      "499999500000\n",
      "499999500000\n",
      "499999500000\n",
      "499999500000\n",
      "499999500000\n",
      "499999500000\n",
      "499999500000\n",
      "499999500000\n",
      "499999500000\n",
      "499999500000\n",
      "499999500000\n",
      "499999500000\n",
      "499999500000\n",
      "499999500000\n",
      "499999500000\n",
      "499999500000\n",
      "499999500000\n",
      "499999500000\n",
      "499999500000\n",
      "499999500000\n",
      "499999500000\n",
      "499999500000\n",
      "499999500000\n",
      "499999500000\n",
      "499999500000\n",
      "499999500000\n",
      "499999500000\n",
      "499999500000\n",
      "499999500000\n",
      "499999500000\n",
      "499999500000\n",
      "499999500000\n",
      "499999500000\n",
      "499999500000\n",
      "499999500000\n",
      "499999500000\n",
      "499999500000\n",
      "499999500000\n",
      "499999500000\n",
      "499999500000\n",
      "499999500000\n",
      "499999500000\n",
      "499999500000\n",
      "499999500000\n",
      "499999500000\n",
      "499999500000\n",
      "499999500000\n",
      "499999500000\n",
      "499999500000\n",
      "499999500000\n",
      "499999500000\n",
      "499999500000\n",
      "499999500000\n",
      "499999500000\n",
      "499999500000\n",
      "499999500000\n",
      "499999500000\n",
      "499999500000\n",
      "499999500000\n",
      "499999500000\n",
      "499999500000\n",
      "499999500000\n",
      "499999500000\n",
      "499999500000\n",
      "499999500000\n",
      "499999500000\n",
      "499999500000\n",
      "499999500000\n",
      "499999500000\n",
      "499999500000\n",
      "499999500000\n",
      "499999500000\n",
      "499999500000\n",
      "499999500000\n",
      "499999500000\n",
      "499999500000\n",
      "499999500000\n",
      "499999500000\n",
      "499999500000\n",
      "499999500000\n",
      "499999500000\n",
      "499999500000\n",
      "499999500000\n",
      "499999500000\n",
      "499999500000\n",
      "499999500000\n",
      "499999500000\n",
      "499999500000\n",
      "499999500000\n",
      "499999500000\n",
      "499999500000\n",
      "499999500000\n",
      "499999500000\n",
      "499999500000\n",
      "499999500000\n",
      "499999500000\n",
      "499999500000\n",
      "499999500000\n",
      "499999500000\n",
      "499999500000\n",
      "499999500000\n",
      "499999500000\n",
      "499999500000\n",
      "499999500000\n",
      "499999500000\n",
      "499999500000\n",
      "499999500000\n",
      "499999500000\n",
      "499999500000\n",
      "499999500000\n",
      "499999500000\n",
      "499999500000\n",
      "499999500000\n",
      "499999500000\n",
      "499999500000\n",
      "499999500000\n",
      "499999500000\n",
      "499999500000\n",
      "499999500000\n",
      "499999500000\n",
      "499999500000\n",
      "499999500000\n",
      "499999500000\n",
      "499999500000\n",
      "499999500000\n",
      "499999500000\n",
      "499999500000\n",
      "499999500000\n",
      "499999500000\n",
      "499999500000\n",
      "499999500000\n",
      "499999500000\n",
      "499999500000\n",
      "499999500000\n",
      "499999500000\n",
      "499999500000\n",
      "499999500000\n",
      "499999500000\n",
      "499999500000\n",
      "499999500000\n",
      "499999500000\n",
      "499999500000\n",
      "499999500000\n",
      "499999500000\n",
      "499999500000\n",
      "499999500000\n",
      "499999500000\n",
      "499999500000\n",
      "499999500000\n",
      "499999500000\n",
      "499999500000\n",
      "499999500000\n",
      "499999500000\n",
      "499999500000\n",
      "499999500000\n",
      "499999500000\n",
      "499999500000\n",
      "499999500000\n",
      "499999500000\n",
      "499999500000\n",
      "499999500000\n",
      "499999500000\n",
      "499999500000\n",
      "499999500000\n",
      "499999500000\n",
      "499999500000\n",
      "499999500000\n",
      "499999500000\n",
      "499999500000\n",
      "499999500000\n",
      "499999500000\n",
      "499999500000\n",
      "499999500000\n",
      "499999500000\n",
      "499999500000\n",
      "499999500000\n",
      "499999500000\n",
      "499999500000\n",
      "499999500000\n",
      "499999500000\n",
      "499999500000\n",
      "499999500000\n",
      "499999500000\n",
      "499999500000\n",
      "499999500000\n",
      "499999500000\n",
      "499999500000\n",
      "499999500000\n",
      "499999500000\n",
      "499999500000\n",
      "499999500000\n",
      "499999500000\n",
      "499999500000\n",
      "499999500000\n",
      "499999500000\n",
      "499999500000\n",
      "499999500000\n",
      "499999500000\n",
      "499999500000\n",
      "499999500000\n",
      "499999500000\n",
      "499999500000\n",
      "499999500000\n",
      "499999500000\n",
      "499999500000\n",
      "499999500000\n",
      "499999500000\n",
      "499999500000\n",
      "499999500000\n",
      "499999500000\n",
      "499999500000\n",
      "499999500000\n",
      "499999500000\n",
      "499999500000\n",
      "499999500000\n",
      "499999500000\n",
      "499999500000\n",
      "499999500000\n",
      "499999500000\n",
      "499999500000\n",
      "499999500000\n",
      "499999500000\n",
      "499999500000\n",
      "499999500000\n",
      "499999500000\n",
      "499999500000\n",
      "499999500000\n",
      "499999500000\n",
      "499999500000\n",
      "499999500000\n",
      "499999500000\n",
      "499999500000\n",
      "499999500000\n",
      "499999500000\n",
      "499999500000\n",
      "499999500000\n",
      "499999500000\n",
      "499999500000\n",
      "499999500000\n",
      "499999500000\n",
      "499999500000\n",
      "499999500000\n",
      "499999500000\n",
      "499999500000\n",
      "499999500000\n",
      "499999500000\n",
      "499999500000\n",
      "499999500000\n",
      "499999500000\n",
      "499999500000\n",
      "499999500000\n",
      "499999500000\n",
      "499999500000\n",
      "499999500000\n",
      "499999500000\n",
      "499999500000\n",
      "499999500000\n",
      "499999500000\n",
      "499999500000\n",
      "499999500000\n",
      "499999500000\n",
      "499999500000\n",
      "499999500000\n",
      "499999500000\n",
      "499999500000\n",
      "499999500000\n",
      "499999500000\n",
      "499999500000\n",
      "499999500000\n",
      "499999500000\n",
      "499999500000\n",
      "499999500000\n",
      "499999500000\n",
      "499999500000\n",
      "499999500000\n",
      "499999500000\n",
      "499999500000\n",
      "499999500000\n",
      "499999500000\n",
      "499999500000\n",
      "499999500000\n",
      "499999500000\n",
      "499999500000\n",
      "499999500000\n",
      "499999500000\n",
      "499999500000\n",
      "499999500000\n",
      "499999500000\n",
      "499999500000\n",
      "499999500000\n",
      "499999500000\n",
      "499999500000\n",
      "499999500000\n",
      "499999500000\n",
      "499999500000\n",
      "499999500000\n",
      "499999500000\n",
      "499999500000\n",
      "499999500000\n",
      "499999500000\n",
      "499999500000\n",
      "499999500000\n",
      "499999500000\n",
      "499999500000\n",
      "499999500000\n",
      "499999500000\n",
      "499999500000\n",
      "499999500000\n",
      "499999500000\n",
      "499999500000\n",
      "499999500000\n",
      "499999500000\n",
      "499999500000\n",
      "499999500000\n",
      "499999500000\n",
      "499999500000\n",
      "499999500000\n",
      "499999500000\n",
      "499999500000\n",
      "499999500000\n",
      "499999500000\n",
      "499999500000\n",
      "499999500000\n",
      "499999500000\n",
      "499999500000\n",
      "499999500000\n",
      "499999500000\n",
      "499999500000\n",
      "499999500000\n",
      "499999500000\n",
      "499999500000\n",
      "499999500000\n",
      "499999500000\n",
      "499999500000\n",
      "499999500000\n",
      "499999500000\n",
      "499999500000\n",
      "499999500000\n",
      "499999500000\n",
      "499999500000\n",
      "499999500000\n",
      "499999500000\n",
      "499999500000\n",
      "499999500000\n",
      "499999500000\n",
      "499999500000\n",
      "499999500000\n",
      "499999500000\n",
      "499999500000\n",
      "499999500000\n",
      "499999500000\n",
      "499999500000\n",
      "499999500000\n",
      "499999500000\n",
      "499999500000\n",
      "499999500000\n",
      "499999500000\n",
      "499999500000\n",
      "499999500000\n",
      "499999500000\n",
      "499999500000\n",
      "499999500000\n",
      "499999500000\n",
      "499999500000\n",
      "499999500000\n",
      "499999500000\n",
      "499999500000\n",
      "499999500000\n",
      "499999500000\n",
      "499999500000\n",
      "499999500000\n",
      "499999500000\n",
      "499999500000\n",
      "499999500000\n",
      "499999500000\n",
      "499999500000\n",
      "499999500000\n",
      "499999500000\n",
      "499999500000\n",
      "499999500000\n",
      "499999500000\n",
      "499999500000\n",
      "499999500000\n",
      "499999500000\n",
      "499999500000\n",
      "499999500000\n",
      "499999500000\n",
      "499999500000\n",
      "499999500000\n",
      "499999500000\n",
      "499999500000\n",
      "499999500000\n",
      "499999500000\n",
      "499999500000\n",
      "499999500000\n",
      "499999500000\n",
      "499999500000\n",
      "499999500000\n",
      "499999500000\n",
      "499999500000\n",
      "499999500000\n",
      "499999500000\n",
      "499999500000\n",
      "499999500000\n",
      "499999500000\n",
      "100 loops, best of 3: 9.98 ms per loop\n"
     ]
    }
   ],
   "source": [
    "%%timeit\n",
    "\n",
    "#a = np.arange(10**6)\n",
    "s = sum(xrange(10**6))\n",
    "print s"
   ]
  },
  {
   "cell_type": "code",
   "execution_count": 48,
   "metadata": {},
   "outputs": [
    {
     "name": "stdout",
     "output_type": "stream",
     "text": [
      "10 loops, best of 3: 62.1 ms per loop\n"
     ]
    }
   ],
   "source": [
    "%timeit sumar(10**6)"
   ]
  },
  {
   "cell_type": "code",
   "execution_count": 53,
   "metadata": {},
   "outputs": [],
   "source": [
    "a = np.linspace(1, 10**6, 10**6)\n",
    "b = np.arange(0.1, 1, 10**6)"
   ]
  },
  {
   "cell_type": "code",
   "execution_count": 55,
   "metadata": {},
   "outputs": [
    {
     "name": "stdout",
     "output_type": "stream",
     "text": [
      "1000 loops, best of 3: 1.24 ms per loop\n"
     ]
    }
   ],
   "source": [
    "%timeit c = a + b"
   ]
  },
  {
   "cell_type": "code",
   "execution_count": 59,
   "metadata": {},
   "outputs": [
    {
     "ename": "IndexError",
     "evalue": "index 1 is out of bounds for axis 0 with size 1",
     "output_type": "error",
     "traceback": [
      "\u001b[0;31m---------------------------------------------------------------------------\u001b[0m\n\u001b[0;31mIndexError\u001b[0m                                Traceback (most recent call last)",
      "\u001b[0;32m<ipython-input-59-6fa598d3b2ad>\u001b[0m in \u001b[0;36m<module>\u001b[0;34m()\u001b[0m\n\u001b[0;32m----> 1\u001b[0;31m \u001b[0mget_ipython\u001b[0m\u001b[0;34m(\u001b[0m\u001b[0;34m)\u001b[0m\u001b[0;34m.\u001b[0m\u001b[0mrun_cell_magic\u001b[0m\u001b[0;34m(\u001b[0m\u001b[0;34mu'timeit'\u001b[0m\u001b[0;34m,\u001b[0m \u001b[0;34mu''\u001b[0m\u001b[0;34m,\u001b[0m \u001b[0;34mu'\\nc = np.zeros(10**6)\\n\\nfor i in range(10**6):\\n    c[i] = a[i] + b[i]'\u001b[0m\u001b[0;34m)\u001b[0m\u001b[0;34m\u001b[0m\u001b[0m\n\u001b[0m",
      "\u001b[0;32m/Users/dsanders/development/ipython/IPython/core/interactiveshell.pyc\u001b[0m in \u001b[0;36mrun_cell_magic\u001b[0;34m(self, magic_name, line, cell)\u001b[0m\n\u001b[1;32m   2136\u001b[0m             \u001b[0mmagic_arg_s\u001b[0m \u001b[0;34m=\u001b[0m \u001b[0mself\u001b[0m\u001b[0;34m.\u001b[0m\u001b[0mvar_expand\u001b[0m\u001b[0;34m(\u001b[0m\u001b[0mline\u001b[0m\u001b[0;34m,\u001b[0m \u001b[0mstack_depth\u001b[0m\u001b[0;34m)\u001b[0m\u001b[0;34m\u001b[0m\u001b[0m\n\u001b[1;32m   2137\u001b[0m             \u001b[0;32mwith\u001b[0m \u001b[0mself\u001b[0m\u001b[0;34m.\u001b[0m\u001b[0mbuiltin_trap\u001b[0m\u001b[0;34m:\u001b[0m\u001b[0;34m\u001b[0m\u001b[0m\n\u001b[0;32m-> 2138\u001b[0;31m                 \u001b[0mresult\u001b[0m \u001b[0;34m=\u001b[0m \u001b[0mfn\u001b[0m\u001b[0;34m(\u001b[0m\u001b[0mmagic_arg_s\u001b[0m\u001b[0;34m,\u001b[0m \u001b[0mcell\u001b[0m\u001b[0;34m)\u001b[0m\u001b[0;34m\u001b[0m\u001b[0m\n\u001b[0m\u001b[1;32m   2139\u001b[0m             \u001b[0;32mreturn\u001b[0m \u001b[0mresult\u001b[0m\u001b[0;34m\u001b[0m\u001b[0m\n\u001b[1;32m   2140\u001b[0m \u001b[0;34m\u001b[0m\u001b[0m\n",
      "\u001b[0;32m/Users/dsanders/development/ipython/IPython/core/magics/execution.pyc\u001b[0m in \u001b[0;36mtimeit\u001b[0;34m(self, line, cell)\u001b[0m\n",
      "\u001b[0;32m/Users/dsanders/development/ipython/IPython/core/magic.pyc\u001b[0m in \u001b[0;36m<lambda>\u001b[0;34m(f, *a, **k)\u001b[0m\n\u001b[1;32m    189\u001b[0m     \u001b[0;31m# but it's overkill for just that one bit of state.\u001b[0m\u001b[0;34m\u001b[0m\u001b[0;34m\u001b[0m\u001b[0m\n\u001b[1;32m    190\u001b[0m     \u001b[0;32mdef\u001b[0m \u001b[0mmagic_deco\u001b[0m\u001b[0;34m(\u001b[0m\u001b[0marg\u001b[0m\u001b[0;34m)\u001b[0m\u001b[0;34m:\u001b[0m\u001b[0;34m\u001b[0m\u001b[0m\n\u001b[0;32m--> 191\u001b[0;31m         \u001b[0mcall\u001b[0m \u001b[0;34m=\u001b[0m \u001b[0;32mlambda\u001b[0m \u001b[0mf\u001b[0m\u001b[0;34m,\u001b[0m \u001b[0;34m*\u001b[0m\u001b[0ma\u001b[0m\u001b[0;34m,\u001b[0m \u001b[0;34m**\u001b[0m\u001b[0mk\u001b[0m\u001b[0;34m:\u001b[0m \u001b[0mf\u001b[0m\u001b[0;34m(\u001b[0m\u001b[0;34m*\u001b[0m\u001b[0ma\u001b[0m\u001b[0;34m,\u001b[0m \u001b[0;34m**\u001b[0m\u001b[0mk\u001b[0m\u001b[0;34m)\u001b[0m\u001b[0;34m\u001b[0m\u001b[0m\n\u001b[0m\u001b[1;32m    192\u001b[0m \u001b[0;34m\u001b[0m\u001b[0m\n\u001b[1;32m    193\u001b[0m         \u001b[0;32mif\u001b[0m \u001b[0mcallable\u001b[0m\u001b[0;34m(\u001b[0m\u001b[0marg\u001b[0m\u001b[0;34m)\u001b[0m\u001b[0;34m:\u001b[0m\u001b[0;34m\u001b[0m\u001b[0m\n",
      "\u001b[0;32m/Users/dsanders/development/ipython/IPython/core/magics/execution.pyc\u001b[0m in \u001b[0;36mtimeit\u001b[0;34m(self, line, cell)\u001b[0m\n\u001b[1;32m    984\u001b[0m             \u001b[0mnumber\u001b[0m \u001b[0;34m=\u001b[0m \u001b[0;36m1\u001b[0m\u001b[0;34m\u001b[0m\u001b[0m\n\u001b[1;32m    985\u001b[0m             \u001b[0;32mfor\u001b[0m \u001b[0mi\u001b[0m \u001b[0;32min\u001b[0m \u001b[0mrange\u001b[0m\u001b[0;34m(\u001b[0m\u001b[0;36m1\u001b[0m\u001b[0;34m,\u001b[0m \u001b[0;36m10\u001b[0m\u001b[0;34m)\u001b[0m\u001b[0;34m:\u001b[0m\u001b[0;34m\u001b[0m\u001b[0m\n\u001b[0;32m--> 986\u001b[0;31m                 \u001b[0;32mif\u001b[0m \u001b[0mtimer\u001b[0m\u001b[0;34m.\u001b[0m\u001b[0mtimeit\u001b[0m\u001b[0;34m(\u001b[0m\u001b[0mnumber\u001b[0m\u001b[0;34m)\u001b[0m \u001b[0;34m>=\u001b[0m \u001b[0;36m0.2\u001b[0m\u001b[0;34m:\u001b[0m\u001b[0;34m\u001b[0m\u001b[0m\n\u001b[0m\u001b[1;32m    987\u001b[0m                     \u001b[0;32mbreak\u001b[0m\u001b[0;34m\u001b[0m\u001b[0m\n\u001b[1;32m    988\u001b[0m                 \u001b[0mnumber\u001b[0m \u001b[0;34m*=\u001b[0m \u001b[0;36m10\u001b[0m\u001b[0;34m\u001b[0m\u001b[0m\n",
      "\u001b[0;32m/usr/local/Cellar/python/2.7.5/Frameworks/Python.framework/Versions/2.7/lib/python2.7/timeit.pyc\u001b[0m in \u001b[0;36mtimeit\u001b[0;34m(self, number)\u001b[0m\n\u001b[1;32m    193\u001b[0m         \u001b[0mgc\u001b[0m\u001b[0;34m.\u001b[0m\u001b[0mdisable\u001b[0m\u001b[0;34m(\u001b[0m\u001b[0;34m)\u001b[0m\u001b[0;34m\u001b[0m\u001b[0m\n\u001b[1;32m    194\u001b[0m         \u001b[0;32mtry\u001b[0m\u001b[0;34m:\u001b[0m\u001b[0;34m\u001b[0m\u001b[0m\n\u001b[0;32m--> 195\u001b[0;31m             \u001b[0mtiming\u001b[0m \u001b[0;34m=\u001b[0m \u001b[0mself\u001b[0m\u001b[0;34m.\u001b[0m\u001b[0minner\u001b[0m\u001b[0;34m(\u001b[0m\u001b[0mit\u001b[0m\u001b[0;34m,\u001b[0m \u001b[0mself\u001b[0m\u001b[0;34m.\u001b[0m\u001b[0mtimer\u001b[0m\u001b[0;34m)\u001b[0m\u001b[0;34m\u001b[0m\u001b[0m\n\u001b[0m\u001b[1;32m    196\u001b[0m         \u001b[0;32mfinally\u001b[0m\u001b[0;34m:\u001b[0m\u001b[0;34m\u001b[0m\u001b[0m\n\u001b[1;32m    197\u001b[0m             \u001b[0;32mif\u001b[0m \u001b[0mgcold\u001b[0m\u001b[0;34m:\u001b[0m\u001b[0;34m\u001b[0m\u001b[0m\n",
      "\u001b[0;32m<magic-timeit>\u001b[0m in \u001b[0;36minner\u001b[0;34m(_it, _timer)\u001b[0m\n",
      "\u001b[0;31mIndexError\u001b[0m: index 1 is out of bounds for axis 0 with size 1"
     ]
    }
   ],
   "source": [
    "%%timeit \n",
    "\n",
    "c = np.zeros(10**6)\n",
    "\n",
    "for i in range(10**6):\n",
    "    c[i] = a[i] + b[i]"
   ]
  },
  {
   "cell_type": "code",
   "execution_count": 57,
   "metadata": {},
   "outputs": [
    {
     "data": {
      "text/plain": [
       "1000000"
      ]
     },
     "execution_count": 57,
     "metadata": {},
     "output_type": "execute_result"
    }
   ],
   "source": [
    "len(a)"
   ]
  },
  {
   "cell_type": "code",
   "execution_count": 63,
   "metadata": {},
   "outputs": [],
   "source": [
    "a = 3\n",
    "s = \"print(a)\""
   ]
  },
  {
   "cell_type": "code",
   "execution_count": 64,
   "metadata": {},
   "outputs": [
    {
     "data": {
      "text/plain": [
       "'print(a)'"
      ]
     },
     "execution_count": 64,
     "metadata": {},
     "output_type": "execute_result"
    }
   ],
   "source": [
    "s"
   ]
  },
  {
   "cell_type": "code",
   "execution_count": 66,
   "metadata": {},
   "outputs": [
    {
     "name": "stdout",
     "output_type": "stream",
     "text": [
      "3\n"
     ]
    }
   ],
   "source": [
    "exec(s)"
   ]
  },
  {
   "cell_type": "code",
   "execution_count": 67,
   "metadata": {},
   "outputs": [
    {
     "data": {
      "text/plain": [
       "9"
      ]
     },
     "execution_count": 67,
     "metadata": {},
     "output_type": "execute_result"
    }
   ],
   "source": [
    "expr = \"3*a\"\n",
    "eval(expr)"
   ]
  },
  {
   "cell_type": "markdown",
   "metadata": {},
   "source": [
    "## List comprehensions"
   ]
  },
  {
   "cell_type": "markdown",
   "metadata": {},
   "source": [
    "Supongamos que queramos aplicar una función a cada elemento de una lista, por ejemplo duplicar cada elemento:"
   ]
  },
  {
   "cell_type": "code",
   "execution_count": 68,
   "metadata": {},
   "outputs": [],
   "source": [
    "a = np.arange(10)\n",
    "b = 2*a"
   ]
  },
  {
   "cell_type": "code",
   "execution_count": 69,
   "metadata": {},
   "outputs": [
    {
     "data": {
      "text/plain": [
       "array([0, 1, 2, 3, 4, 5, 6, 7, 8, 9])"
      ]
     },
     "execution_count": 69,
     "metadata": {},
     "output_type": "execute_result"
    }
   ],
   "source": [
    "a"
   ]
  },
  {
   "cell_type": "code",
   "execution_count": 70,
   "metadata": {},
   "outputs": [
    {
     "data": {
      "text/plain": [
       "array([ 0,  2,  4,  6,  8, 10, 12, 14, 16, 18])"
      ]
     },
     "execution_count": 70,
     "metadata": {},
     "output_type": "execute_result"
    }
   ],
   "source": [
    "b"
   ]
  },
  {
   "cell_type": "code",
   "execution_count": 71,
   "metadata": {},
   "outputs": [],
   "source": [
    "def f(x):\n",
    "    return x*x + 1"
   ]
  },
  {
   "cell_type": "code",
   "execution_count": 72,
   "metadata": {},
   "outputs": [
    {
     "data": {
      "text/plain": [
       "[1, 2, 5, 10, 17, 26, 37, 50, 65, 82]"
      ]
     },
     "execution_count": 72,
     "metadata": {},
     "output_type": "execute_result"
    }
   ],
   "source": [
    "map(f, a)"
   ]
  },
  {
   "cell_type": "code",
   "execution_count": 73,
   "metadata": {},
   "outputs": [
    {
     "data": {
      "text/plain": [
       "array([ 1,  2,  5, 10, 17, 26, 37, 50, 65, 82])"
      ]
     },
     "execution_count": 73,
     "metadata": {},
     "output_type": "execute_result"
    }
   ],
   "source": [
    "f(a)"
   ]
  },
  {
   "cell_type": "markdown",
   "metadata": {},
   "source": [
    "List comprehension:"
   ]
  },
  {
   "cell_type": "markdown",
   "metadata": {},
   "source": [
    "Matemáticamente, escribiríamos:"
   ]
  },
  {
   "cell_type": "markdown",
   "metadata": {},
   "source": [
    "$$\\{x^2 + 1 : x \\in A \\}$$"
   ]
  },
  {
   "cell_type": "code",
   "execution_count": 74,
   "metadata": {},
   "outputs": [
    {
     "data": {
      "text/plain": [
       "[1, 2, 5, 10, 17, 26, 37, 50, 65, 82]"
      ]
     },
     "execution_count": 74,
     "metadata": {},
     "output_type": "execute_result"
    }
   ],
   "source": [
    "[x*x+1 for x in range(10)]"
   ]
  },
  {
   "cell_type": "code",
   "execution_count": 92,
   "metadata": {},
   "outputs": [
    {
     "name": "stdout",
     "output_type": "stream",
     "text": [
      "CPU times: user 223 ms, sys: 11.7 ms, total: 235 ms\n",
      "Wall time: 229 ms\n"
     ]
    }
   ],
   "source": [
    "%time l = [x*x+1 for x in xrange(1000000) if x%2==1]"
   ]
  },
  {
   "cell_type": "code",
   "execution_count": 95,
   "metadata": {},
   "outputs": [
    {
     "name": "stdout",
     "output_type": "stream",
     "text": [
      "10 loops, best of 3: 165 ms per loop\n"
     ]
    }
   ],
   "source": [
    "%%timeit\n",
    "l = []\n",
    "for x in xrange(1000000):\n",
    "    if x%2==1:\n",
    "        l.append(x*x+1)"
   ]
  },
  {
   "cell_type": "markdown",
   "metadata": {},
   "source": [
    "## %%timeit  a = np.arange(1000000) b = a*a + 1"
   ]
  },
  {
   "cell_type": "code",
   "execution_count": 78,
   "metadata": {},
   "outputs": [
    {
     "data": {
      "text/plain": [
       "array([ 0.        ,  0.84147098,  0.90929743,  0.14112001, -0.7568025 ,\n",
       "       -0.95892427, -0.2794155 ,  0.6569866 ,  0.98935825,  0.41211849])"
      ]
     },
     "execution_count": 78,
     "metadata": {},
     "output_type": "execute_result"
    }
   ],
   "source": [
    "np.sin(a)"
   ]
  },
  {
   "cell_type": "code",
   "execution_count": null,
   "metadata": {},
   "outputs": [],
   "source": []
  },
  {
   "cell_type": "markdown",
   "metadata": {},
   "source": [
    "## Siguiente paso: Cython y numba"
   ]
  },
  {
   "cell_type": "markdown",
   "metadata": {},
   "source": [
    "Cython y numba compilan pedazos de Python a C"
   ]
  },
  {
   "cell_type": "code",
   "execution_count": null,
   "metadata": {},
   "outputs": [],
   "source": []
  }
 ],
 "metadata": {
  "kernelspec": {
   "display_name": "Python 2",
   "language": "python",
   "name": "python2"
  },
  "language_info": {
   "codemirror_mode": {
    "name": "ipython",
    "version": 2
   },
   "file_extension": ".py",
   "mimetype": "text/x-python",
   "name": "python",
   "nbconvert_exporter": "python",
   "pygments_lexer": "ipython2",
   "version": "2.7.16"
  }
 },
 "nbformat": 4,
 "nbformat_minor": 1
}
